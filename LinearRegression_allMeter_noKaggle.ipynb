{
 "cells": [
  {
   "cell_type": "code",
   "execution_count": 1,
   "metadata": {
    "_cell_guid": "b1076dfc-b9ad-4769-8c92-a6c4dae69d19",
    "_uuid": "8f2839f25d086af736a60e9eeb907d3b93b6e0e5",
    "execution": {
     "iopub.execute_input": "2022-01-27T19:25:18.781392Z",
     "iopub.status.busy": "2022-01-27T19:25:18.780765Z",
     "iopub.status.idle": "2022-01-27T19:25:21.214753Z",
     "shell.execute_reply": "2022-01-27T19:25:21.213929Z",
     "shell.execute_reply.started": "2022-01-27T19:25:18.781263Z"
    }
   },
   "outputs": [
    {
     "name": "stdout",
     "output_type": "stream",
     "text": [
      "E:/pasca/Documents/Test/building_metadata.csv\n",
      "E:/pasca/Documents/Test/sample_submission.csv\n",
      "E:/pasca/Documents/Test/test.csv\n",
      "E:/pasca/Documents/Test/train.csv\n",
      "E:/pasca/Documents/Test/weather_test.csv\n",
      "E:/pasca/Documents/Test/weather_train.csv\n"
     ]
    }
   ],
   "source": [
    "#Imports\n",
    "\n",
    "import numpy as np # linear algebra\n",
    "import pandas as pd # data processing, CSV file I/O (e.g. pd.read_csv)\n",
    "\n",
    "# Input data files are available in the read-only \"../input/\" directory\n",
    "# For example, running this (by clicking run or pressing Shift+Enter) will list all files under the input directory\n",
    "\n",
    "import os\n",
    "for dirname, _, filenames in os.walk('E:/pasca/Documents/Test/'):\n",
    "    for filename in filenames:\n",
    "        print(os.path.join(dirname, filename))\n",
    "\n",
    "import os, gc, warnings\n",
    "import random\n",
    "import datetime\n",
    "import warnings\n",
    "\n",
    "from tqdm.notebook import tqdm\n",
    "\n",
    "import matplotlib\n",
    "import matplotlib.pyplot as plt\n",
    "import seaborn as sns\n",
    "\n",
    "from pandas.plotting import register_matplotlib_converters\n",
    "register_matplotlib_converters()\n",
    "\n",
    "from sklearn.linear_model import LinearRegression\n",
    "\n",
    "from sklearn.preprocessing import LabelEncoder\n",
    "from sklearn.model_selection import train_test_split\n",
    "from sklearn.model_selection import KFold, StratifiedKFold\n",
    "import sklearn\n",
    "from sklearn import metrics\n",
    "import category_encoders\n",
    "\n",
    "import missingno as msno\n",
    "\n",
    "import lightgbm as lgb\n",
    "\n",
    "import pickle\n",
    "\n",
    "warnings.filterwarnings('ignore')\n",
    "# You can write up to 20GB to the current directory (/kaggle/working/) that gets preserved as output when you create a version using \"Save & Run All\" \n",
    "# You can also write temporary files to /kaggle/temp/, but they won't be saved outside of the current session"
   ]
  },
  {
   "cell_type": "code",
   "execution_count": 2,
   "metadata": {
    "execution": {
     "iopub.execute_input": "2022-01-27T19:25:21.219093Z",
     "iopub.status.busy": "2022-01-27T19:25:21.218814Z",
     "iopub.status.idle": "2022-01-27T19:25:36.903564Z",
     "shell.execute_reply": "2022-01-27T19:25:36.902738Z",
     "shell.execute_reply.started": "2022-01-27T19:25:21.219057Z"
    }
   },
   "outputs": [],
   "source": [
    "#data import\n",
    "path = \"E:/pasca/Documents/Test/\"\n",
    "train_df = pd.read_csv(path + 'train.csv')\n",
    "building_df = pd.read_csv(path + 'building_metadata.csv')\n",
    "weather_df = pd.read_csv(path + 'weather_train.csv')"
   ]
  },
  {
   "cell_type": "code",
   "execution_count": 3,
   "metadata": {
    "execution": {
     "iopub.execute_input": "2022-01-27T19:25:36.905025Z",
     "iopub.status.busy": "2022-01-27T19:25:36.904802Z",
     "iopub.status.idle": "2022-01-27T19:25:37.066127Z",
     "shell.execute_reply": "2022-01-27T19:25:37.065267Z",
     "shell.execute_reply.started": "2022-01-27T19:25:36.905000Z"
    }
   },
   "outputs": [],
   "source": [
    "# Original code from https://www.kaggle.com/aitude/ashrae-missing-weather-data-handling by @aitude\n",
    "\n",
    "def fill_weather_dataset(weather_df):\n",
    "    \n",
    "    # Find Missing Dates\n",
    "    time_format = \"%Y-%m-%d %H:%M:%S\"\n",
    "    start_date = datetime.datetime.strptime(weather_df['timestamp'].min(),time_format)\n",
    "    end_date = datetime.datetime.strptime(weather_df['timestamp'].max(),time_format)\n",
    "    total_hours = int(((end_date - start_date).total_seconds() + 3600) / 3600)\n",
    "    hours_list = [(end_date - datetime.timedelta(hours=x)).strftime(time_format) for x in range(total_hours)]\n",
    "\n",
    "    missing_hours = []\n",
    "    for site_id in range(16):\n",
    "        site_hours = np.array(weather_df[weather_df['site_id'] == site_id]['timestamp'])\n",
    "        new_rows = pd.DataFrame(np.setdiff1d(hours_list,site_hours),columns=['timestamp'])\n",
    "        new_rows['site_id'] = site_id\n",
    "        weather_df = pd.concat([weather_df,new_rows])\n",
    "\n",
    "        weather_df = weather_df.reset_index(drop=True)           \n",
    "\n",
    "    # Add new Features\n",
    "    weather_df[\"datetime\"] = pd.to_datetime(weather_df[\"timestamp\"])\n",
    "    weather_df[\"day\"] = weather_df[\"datetime\"].dt.day\n",
    "    weather_df[\"week\"] = weather_df[\"datetime\"].dt.week\n",
    "    weather_df[\"month\"] = weather_df[\"datetime\"].dt.month\n",
    "    \n",
    "    # Reset Index for Fast Update\n",
    "    weather_df = weather_df.set_index(['site_id','day','month'])\n",
    "\n",
    "    air_temperature_filler = pd.DataFrame(weather_df.groupby(['site_id','day','month'])['air_temperature'].mean(),columns=[\"air_temperature\"])\n",
    "    weather_df.update(air_temperature_filler,overwrite=False)\n",
    "\n",
    "    # Step 1\n",
    "    cloud_coverage_filler = weather_df.groupby(['site_id','day','month'])['cloud_coverage'].mean()\n",
    "    # Step 2\n",
    "    cloud_coverage_filler = pd.DataFrame(cloud_coverage_filler.fillna(method='ffill'),columns=[\"cloud_coverage\"])\n",
    "\n",
    "    weather_df.update(cloud_coverage_filler,overwrite=False)\n",
    "\n",
    "    due_temperature_filler = pd.DataFrame(weather_df.groupby(['site_id','day','month'])['dew_temperature'].mean(),columns=[\"dew_temperature\"])\n",
    "    weather_df.update(due_temperature_filler,overwrite=False)\n",
    "\n",
    "    # Step 1\n",
    "    sea_level_filler = weather_df.groupby(['site_id','day','month'])['sea_level_pressure'].mean()\n",
    "    # Step 2\n",
    "    sea_level_filler = pd.DataFrame(sea_level_filler.fillna(method='ffill'),columns=['sea_level_pressure'])\n",
    "\n",
    "    weather_df.update(sea_level_filler,overwrite=False)\n",
    "\n",
    "    wind_direction_filler =  pd.DataFrame(weather_df.groupby(['site_id','day','month'])['wind_direction'].mean(),columns=['wind_direction'])\n",
    "    weather_df.update(wind_direction_filler,overwrite=False)\n",
    "\n",
    "    wind_speed_filler =  pd.DataFrame(weather_df.groupby(['site_id','day','month'])['wind_speed'].mean(),columns=['wind_speed'])\n",
    "    weather_df.update(wind_speed_filler,overwrite=False)\n",
    "\n",
    "    # Step 1\n",
    "    precip_depth_filler = weather_df.groupby(['site_id','day','month'])['precip_depth_1_hr'].mean()\n",
    "    # Step 2\n",
    "    precip_depth_filler = pd.DataFrame(precip_depth_filler.fillna(method='ffill'),columns=['precip_depth_1_hr'])\n",
    "\n",
    "    weather_df.update(precip_depth_filler,overwrite=False)\n",
    "\n",
    "    weather_df = weather_df.reset_index()\n",
    "    weather_df = weather_df.drop(['datetime','day','week'],axis=1)\n",
    "        \n",
    "    return weather_df\n",
    "\n",
    "# Original code from https://www.kaggle.com/gemartin/load-data-reduce-memory-usage by @gemartin\n",
    "\n",
    "from pandas.api.types import is_datetime64_any_dtype as is_datetime\n",
    "from pandas.api.types import is_categorical_dtype\n",
    "\n",
    "def reduce_mem_usage(df, use_float16=False):\n",
    "    \"\"\"\n",
    "    Iterate through all the columns of a dataframe and modify the data type to reduce memory usage.        \n",
    "    \"\"\"\n",
    "    \n",
    "    start_mem = df.memory_usage().sum() / 1024**2\n",
    "    print(\"Memory usage of dataframe is {:.2f} MB\".format(start_mem))\n",
    "    \n",
    "    for col in df.columns:\n",
    "        if is_datetime(df[col]) or is_categorical_dtype(df[col]):\n",
    "            continue\n",
    "        col_type = df[col].dtype\n",
    "        \n",
    "        if col_type != object:\n",
    "            c_min = df[col].min()\n",
    "            c_max = df[col].max()\n",
    "            if str(col_type)[:3] == \"int\":\n",
    "                if c_min > np.iinfo(np.int8).min and c_max < np.iinfo(np.int8).max:\n",
    "                    df[col] = df[col].astype(np.int8)\n",
    "                elif c_min > np.iinfo(np.int16).min and c_max < np.iinfo(np.int16).max:\n",
    "                    df[col] = df[col].astype(np.int16)\n",
    "                elif c_min > np.iinfo(np.int32).min and c_max < np.iinfo(np.int32).max:\n",
    "                    df[col] = df[col].astype(np.int32)\n",
    "                elif c_min > np.iinfo(np.int64).min and c_max < np.iinfo(np.int64).max:\n",
    "                    df[col] = df[col].astype(np.int64)  \n",
    "            else:\n",
    "                if use_float16 and c_min > np.finfo(np.float16).min and c_max < np.finfo(np.float16).max:\n",
    "                    df[col] = df[col].astype(np.float16)\n",
    "                elif c_min > np.finfo(np.float32).min and c_max < np.finfo(np.float32).max:\n",
    "                    df[col] = df[col].astype(np.float32)\n",
    "                else:\n",
    "                    df[col] = df[col].astype(np.float64)\n",
    "        else:\n",
    "            df[col] = df[col].astype(\"category\")\n",
    "\n",
    "    end_mem = df.memory_usage().sum() / 1024**2\n",
    "    print(\"Memory usage after optimization is: {:.2f} MB\".format(end_mem))\n",
    "    print(\"Decreased by {:.1f}%\".format(100 * (start_mem - end_mem) / start_mem))\n",
    "    \n",
    "    return df\n",
    "\n",
    "\n",
    "def features_engineering(df):\n",
    "    \n",
    "    # Sort by timestamp\n",
    "    df.sort_values(\"timestamp\")\n",
    "    df.reset_index(drop=True)\n",
    "    \n",
    "    # Add more features\n",
    "    df[\"timestamp\"] = pd.to_datetime(df[\"timestamp\"],format=\"%Y-%m-%d %H:%M:%S\")\n",
    "    df[\"hour\"] = df[\"timestamp\"].dt.hour\n",
    "    df[\"weekend\"] = df[\"timestamp\"].dt.weekday\n",
    "    holidays = [\"2016-01-01\", \"2016-01-18\", \"2016-02-15\", \"2016-05-30\", \"2016-07-04\",\n",
    "                    \"2016-09-05\", \"2016-10-10\", \"2016-11-11\", \"2016-11-24\", \"2016-12-26\",\n",
    "                    \"2017-01-02\", \"2017-01-16\", \"2017-02-20\", \"2017-05-29\", \"2017-07-04\",\n",
    "                    \"2017-09-04\", \"2017-10-09\", \"2017-11-10\", \"2017-11-23\", \"2017-12-25\",\n",
    "                    \"2018-01-01\", \"2018-01-15\", \"2018-02-19\", \"2018-05-28\", \"2018-07-04\",\n",
    "                    \"2018-09-03\", \"2018-10-08\", \"2018-11-12\", \"2018-11-22\", \"2018-12-25\",\n",
    "                    \"2019-01-01\"]\n",
    "    df[\"is_holiday\"] = (df.timestamp.isin(holidays)).astype(int)\n",
    "    df['square_feet'] =  np.log1p(df['square_feet']**0.5)\n",
    "    \n",
    "    # Remove Unused Columns\n",
    "    #drop = [\"timestamp\",\"sea_level_pressure\", \"wind_direction\", \"wind_speed\",\"year_built\",\"floor_count\"]\n",
    "    #df = df.drop(drop, axis=1)\n",
    "    #gc.collect()\n",
    "    \n",
    "    # Encode Categorical Data\n",
    "    #le = LabelEncoder()\n",
    "    #df[\"primary_use\"] = le.fit_transform(df[\"primary_use\"])\n",
    "    \n",
    "    return df"
   ]
  },
  {
   "cell_type": "code",
   "execution_count": 4,
   "metadata": {
    "execution": {
     "iopub.execute_input": "2022-01-27T19:25:37.067476Z",
     "iopub.status.busy": "2022-01-27T19:25:37.067238Z",
     "iopub.status.idle": "2022-01-27T19:26:00.174519Z",
     "shell.execute_reply": "2022-01-27T19:26:00.173920Z",
     "shell.execute_reply.started": "2022-01-27T19:25:37.067447Z"
    }
   },
   "outputs": [],
   "source": [
    "#Datafiller\n",
    "weather_df = fill_weather_dataset(weather_df)"
   ]
  },
  {
   "cell_type": "code",
   "execution_count": 5,
   "metadata": {
    "execution": {
     "iopub.execute_input": "2022-01-27T19:26:00.176607Z",
     "iopub.status.busy": "2022-01-27T19:26:00.176236Z",
     "iopub.status.idle": "2022-01-27T19:26:02.750558Z",
     "shell.execute_reply": "2022-01-27T19:26:02.749693Z",
     "shell.execute_reply.started": "2022-01-27T19:26:00.176570Z"
    }
   },
   "outputs": [
    {
     "name": "stdout",
     "output_type": "stream",
     "text": [
      "Memory usage of dataframe is 616.95 MB\n",
      "Memory usage after optimization is: 173.84 MB\n",
      "Decreased by 71.8%\n",
      "Memory usage of dataframe is 0.07 MB\n",
      "Memory usage after optimization is: 0.02 MB\n",
      "Decreased by 73.9%\n",
      "Memory usage of dataframe is 10.72 MB\n",
      "Memory usage after optimization is: 2.73 MB\n",
      "Decreased by 74.5%\n"
     ]
    }
   ],
   "source": [
    "#Mem reduce\n",
    "train_df = reduce_mem_usage(train_df,use_float16=True)\n",
    "building_df = reduce_mem_usage(building_df,use_float16=True)\n",
    "weather_df = reduce_mem_usage(weather_df,use_float16=True)"
   ]
  },
  {
   "cell_type": "code",
   "execution_count": 6,
   "metadata": {
    "execution": {
     "iopub.execute_input": "2022-01-27T19:26:02.751888Z",
     "iopub.status.busy": "2022-01-27T19:26:02.751668Z",
     "iopub.status.idle": "2022-01-27T19:26:10.461185Z",
     "shell.execute_reply": "2022-01-27T19:26:10.460279Z",
     "shell.execute_reply.started": "2022-01-27T19:26:02.751860Z"
    }
   },
   "outputs": [],
   "source": [
    "#Merge Data\n",
    "train_df = train_df.merge(building_df, left_on='building_id',right_on='building_id',how='left')\n",
    "train_df = train_df.merge(weather_df,how='left',left_on=['site_id','timestamp'],right_on=['site_id','timestamp'])"
   ]
  },
  {
   "cell_type": "code",
   "execution_count": 7,
   "metadata": {
    "execution": {
     "iopub.execute_input": "2022-01-27T19:26:25.614344Z",
     "iopub.status.busy": "2022-01-27T19:26:25.614036Z",
     "iopub.status.idle": "2022-01-27T19:26:36.838627Z",
     "shell.execute_reply": "2022-01-27T19:26:36.837793Z",
     "shell.execute_reply.started": "2022-01-27T19:26:25.614298Z"
    }
   },
   "outputs": [],
   "source": [
    "#remove Buildings\n",
    "train_df.drop(train_df.loc[train_df['building_id']== 1099].index, inplace=True)\n",
    "train_df.drop(train_df.loc[train_df['building_id']== 778].index, inplace=True)"
   ]
  },
  {
   "cell_type": "code",
   "execution_count": 8,
   "metadata": {
    "execution": {
     "iopub.execute_input": "2022-01-27T19:26:36.840236Z",
     "iopub.status.busy": "2022-01-27T19:26:36.839846Z",
     "iopub.status.idle": "2022-01-27T19:26:36.845825Z",
     "shell.execute_reply": "2022-01-27T19:26:36.845061Z",
     "shell.execute_reply.started": "2022-01-27T19:26:36.840202Z"
    }
   },
   "outputs": [],
   "source": [
    "#remove columns\n",
    "del train_df[\"year_built\"]\n",
    "del train_df[\"floor_count\"]"
   ]
  },
  {
   "cell_type": "code",
   "execution_count": 9,
   "metadata": {},
   "outputs": [],
   "source": [
    "train_df[\"timestamp\"] = train_df[\"timestamp\"].astype(\"datetime64\")"
   ]
  },
  {
   "cell_type": "code",
   "execution_count": 10,
   "metadata": {},
   "outputs": [],
   "source": [
    "#remove zero Values\n",
    "train_df = train_df.query('not (building_id <= 104 & meter == 0 & timestamp <= \"2016-05-20\")')"
   ]
  },
  {
   "cell_type": "code",
   "execution_count": 11,
   "metadata": {
    "execution": {
     "iopub.execute_input": "2022-01-27T19:26:10.463034Z",
     "iopub.status.busy": "2022-01-27T19:26:10.462493Z",
     "iopub.status.idle": "2022-01-27T19:26:25.612213Z",
     "shell.execute_reply": "2022-01-27T19:26:25.611252Z",
     "shell.execute_reply.started": "2022-01-27T19:26:10.462973Z"
    }
   },
   "outputs": [],
   "source": [
    "train_df = features_engineering(train_df)"
   ]
  },
  {
   "cell_type": "code",
   "execution_count": 12,
   "metadata": {
    "execution": {
     "iopub.execute_input": "2022-01-27T19:26:39.927846Z",
     "iopub.status.busy": "2022-01-27T19:26:39.927454Z",
     "iopub.status.idle": "2022-01-27T19:26:40.587497Z",
     "shell.execute_reply": "2022-01-27T19:26:40.586676Z",
     "shell.execute_reply.started": "2022-01-27T19:26:39.927799Z"
    }
   },
   "outputs": [],
   "source": [
    "target = np.log1p(train_df[\"meter_reading\"])\n",
    "train = train_df.drop([\"building_id\", 'meter_reading', 'timestamp','hour', \"weekend\", \"is_holiday\"], axis = 1)"
   ]
  },
  {
   "cell_type": "code",
   "execution_count": 13,
   "metadata": {
    "execution": {
     "iopub.execute_input": "2022-01-27T19:26:40.588866Z",
     "iopub.status.busy": "2022-01-27T19:26:40.588640Z",
     "iopub.status.idle": "2022-01-27T19:26:45.022858Z",
     "shell.execute_reply": "2022-01-27T19:26:45.022121Z",
     "shell.execute_reply.started": "2022-01-27T19:26:40.588838Z"
    }
   },
   "outputs": [],
   "source": [
    "train_1 = pd.get_dummies(train, columns = ['meter', \"site_id\", \"primary_use\",'month'])"
   ]
  },
  {
   "cell_type": "code",
   "execution_count": 14,
   "metadata": {},
   "outputs": [],
   "source": [
    "target_train, target_test, data_train, data_test = train_test_split(target,train_1, test_size = .20, random_state= 0)"
   ]
  },
  {
   "cell_type": "code",
   "execution_count": 15,
   "metadata": {
    "execution": {
     "iopub.execute_input": "2022-01-27T19:26:45.024717Z",
     "iopub.status.busy": "2022-01-27T19:26:45.024166Z",
     "iopub.status.idle": "2022-01-27T19:27:19.485298Z",
     "shell.execute_reply": "2022-01-27T19:27:19.484356Z",
     "shell.execute_reply.started": "2022-01-27T19:26:45.024679Z"
    }
   },
   "outputs": [],
   "source": [
    "model = LinearRegression().fit(data_train, target_train)"
   ]
  },
  {
   "cell_type": "code",
   "execution_count": 16,
   "metadata": {},
   "outputs": [],
   "source": [
    "target_pred = model.predict(data_test)"
   ]
  },
  {
   "cell_type": "code",
   "execution_count": 29,
   "metadata": {},
   "outputs": [
    {
     "data": {
      "text/plain": [
       "array([3.11151823, 4.25993893, 2.93733519, ..., 3.96614259, 5.06226406,\n",
       "       4.65559956])"
      ]
     },
     "execution_count": 29,
     "metadata": {},
     "output_type": "execute_result"
    }
   ],
   "source": [
    "target_pred"
   ]
  },
  {
   "cell_type": "code",
   "execution_count": 17,
   "metadata": {},
   "outputs": [
    {
     "name": "stdout",
     "output_type": "stream",
     "text": [
      "Accuracy %d 0.30276612207762343\n"
     ]
    }
   ],
   "source": [
    "print('Accuracy %d', model.score(data_test, target_test))"
   ]
  },
  {
   "cell_type": "code",
   "execution_count": 18,
   "metadata": {},
   "outputs": [
    {
     "name": "stdout",
     "output_type": "stream",
     "text": [
      "R^2 = 0.3027661562265761\n",
      "R^2 = 0.3027661562265761\n"
     ]
    }
   ],
   "source": [
    "print('R^2 =',metrics.explained_variance_score(target_test,target_pred))"
   ]
  },
  {
   "cell_type": "code",
   "execution_count": 19,
   "metadata": {
    "scrolled": true
   },
   "outputs": [
    {
     "data": {
      "text/html": [
       "<div>\n",
       "<style scoped>\n",
       "    .dataframe tbody tr th:only-of-type {\n",
       "        vertical-align: middle;\n",
       "    }\n",
       "\n",
       "    .dataframe tbody tr th {\n",
       "        vertical-align: top;\n",
       "    }\n",
       "\n",
       "    .dataframe thead th {\n",
       "        text-align: right;\n",
       "    }\n",
       "</style>\n",
       "<table border=\"1\" class=\"dataframe\">\n",
       "  <thead>\n",
       "    <tr style=\"text-align: right;\">\n",
       "      <th></th>\n",
       "      <th>Coefficients</th>\n",
       "    </tr>\n",
       "  </thead>\n",
       "  <tbody>\n",
       "    <tr>\n",
       "      <th>square_feet</th>\n",
       "      <td>1.713635e+00</td>\n",
       "    </tr>\n",
       "    <tr>\n",
       "      <th>air_temperature</th>\n",
       "      <td>-2.998093e-03</td>\n",
       "    </tr>\n",
       "    <tr>\n",
       "      <th>cloud_coverage</th>\n",
       "      <td>-6.404154e-04</td>\n",
       "    </tr>\n",
       "    <tr>\n",
       "      <th>dew_temperature</th>\n",
       "      <td>3.184849e-03</td>\n",
       "    </tr>\n",
       "    <tr>\n",
       "      <th>precip_depth_1_hr</th>\n",
       "      <td>-4.985995e-04</td>\n",
       "    </tr>\n",
       "    <tr>\n",
       "      <th>sea_level_pressure</th>\n",
       "      <td>-2.608972e-04</td>\n",
       "    </tr>\n",
       "    <tr>\n",
       "      <th>wind_direction</th>\n",
       "      <td>-1.435242e-04</td>\n",
       "    </tr>\n",
       "    <tr>\n",
       "      <th>wind_speed</th>\n",
       "      <td>4.990483e-03</td>\n",
       "    </tr>\n",
       "    <tr>\n",
       "      <th>meter_0</th>\n",
       "      <td>-1.589647e+08</td>\n",
       "    </tr>\n",
       "    <tr>\n",
       "      <th>meter_1</th>\n",
       "      <td>-1.589647e+08</td>\n",
       "    </tr>\n",
       "    <tr>\n",
       "      <th>meter_2</th>\n",
       "      <td>-1.589647e+08</td>\n",
       "    </tr>\n",
       "    <tr>\n",
       "      <th>meter_3</th>\n",
       "      <td>-1.589647e+08</td>\n",
       "    </tr>\n",
       "    <tr>\n",
       "      <th>site_id_0</th>\n",
       "      <td>-5.572044e+07</td>\n",
       "    </tr>\n",
       "    <tr>\n",
       "      <th>site_id_1</th>\n",
       "      <td>-5.572044e+07</td>\n",
       "    </tr>\n",
       "    <tr>\n",
       "      <th>site_id_2</th>\n",
       "      <td>-5.572044e+07</td>\n",
       "    </tr>\n",
       "    <tr>\n",
       "      <th>site_id_3</th>\n",
       "      <td>-5.572044e+07</td>\n",
       "    </tr>\n",
       "    <tr>\n",
       "      <th>site_id_4</th>\n",
       "      <td>-5.572044e+07</td>\n",
       "    </tr>\n",
       "    <tr>\n",
       "      <th>site_id_5</th>\n",
       "      <td>-5.572044e+07</td>\n",
       "    </tr>\n",
       "    <tr>\n",
       "      <th>site_id_6</th>\n",
       "      <td>-5.572044e+07</td>\n",
       "    </tr>\n",
       "    <tr>\n",
       "      <th>site_id_7</th>\n",
       "      <td>-5.572044e+07</td>\n",
       "    </tr>\n",
       "    <tr>\n",
       "      <th>site_id_8</th>\n",
       "      <td>-5.572044e+07</td>\n",
       "    </tr>\n",
       "    <tr>\n",
       "      <th>site_id_9</th>\n",
       "      <td>-5.572044e+07</td>\n",
       "    </tr>\n",
       "    <tr>\n",
       "      <th>site_id_10</th>\n",
       "      <td>-5.572044e+07</td>\n",
       "    </tr>\n",
       "    <tr>\n",
       "      <th>site_id_11</th>\n",
       "      <td>-5.572044e+07</td>\n",
       "    </tr>\n",
       "    <tr>\n",
       "      <th>site_id_12</th>\n",
       "      <td>-5.572044e+07</td>\n",
       "    </tr>\n",
       "    <tr>\n",
       "      <th>site_id_13</th>\n",
       "      <td>-5.572044e+07</td>\n",
       "    </tr>\n",
       "    <tr>\n",
       "      <th>site_id_14</th>\n",
       "      <td>-5.572044e+07</td>\n",
       "    </tr>\n",
       "    <tr>\n",
       "      <th>site_id_15</th>\n",
       "      <td>-5.572044e+07</td>\n",
       "    </tr>\n",
       "    <tr>\n",
       "      <th>primary_use_Education</th>\n",
       "      <td>1.987368e+07</td>\n",
       "    </tr>\n",
       "    <tr>\n",
       "      <th>primary_use_Entertainment/public assembly</th>\n",
       "      <td>1.987368e+07</td>\n",
       "    </tr>\n",
       "    <tr>\n",
       "      <th>primary_use_Food sales and service</th>\n",
       "      <td>1.987368e+07</td>\n",
       "    </tr>\n",
       "    <tr>\n",
       "      <th>primary_use_Healthcare</th>\n",
       "      <td>1.987368e+07</td>\n",
       "    </tr>\n",
       "    <tr>\n",
       "      <th>primary_use_Lodging/residential</th>\n",
       "      <td>1.987368e+07</td>\n",
       "    </tr>\n",
       "    <tr>\n",
       "      <th>primary_use_Manufacturing/industrial</th>\n",
       "      <td>1.987368e+07</td>\n",
       "    </tr>\n",
       "    <tr>\n",
       "      <th>primary_use_Office</th>\n",
       "      <td>1.987368e+07</td>\n",
       "    </tr>\n",
       "    <tr>\n",
       "      <th>primary_use_Other</th>\n",
       "      <td>1.987368e+07</td>\n",
       "    </tr>\n",
       "    <tr>\n",
       "      <th>primary_use_Parking</th>\n",
       "      <td>1.987368e+07</td>\n",
       "    </tr>\n",
       "    <tr>\n",
       "      <th>primary_use_Public services</th>\n",
       "      <td>1.987368e+07</td>\n",
       "    </tr>\n",
       "    <tr>\n",
       "      <th>primary_use_Religious worship</th>\n",
       "      <td>1.987368e+07</td>\n",
       "    </tr>\n",
       "    <tr>\n",
       "      <th>primary_use_Retail</th>\n",
       "      <td>1.987368e+07</td>\n",
       "    </tr>\n",
       "    <tr>\n",
       "      <th>primary_use_Services</th>\n",
       "      <td>1.987368e+07</td>\n",
       "    </tr>\n",
       "    <tr>\n",
       "      <th>primary_use_Technology/science</th>\n",
       "      <td>1.987368e+07</td>\n",
       "    </tr>\n",
       "    <tr>\n",
       "      <th>primary_use_Utility</th>\n",
       "      <td>1.987368e+07</td>\n",
       "    </tr>\n",
       "    <tr>\n",
       "      <th>primary_use_Warehouse/storage</th>\n",
       "      <td>1.987368e+07</td>\n",
       "    </tr>\n",
       "    <tr>\n",
       "      <th>month_1</th>\n",
       "      <td>2.717741e+05</td>\n",
       "    </tr>\n",
       "    <tr>\n",
       "      <th>month_2</th>\n",
       "      <td>2.717742e+05</td>\n",
       "    </tr>\n",
       "    <tr>\n",
       "      <th>month_3</th>\n",
       "      <td>2.717741e+05</td>\n",
       "    </tr>\n",
       "    <tr>\n",
       "      <th>month_4</th>\n",
       "      <td>2.717741e+05</td>\n",
       "    </tr>\n",
       "    <tr>\n",
       "      <th>month_5</th>\n",
       "      <td>2.717741e+05</td>\n",
       "    </tr>\n",
       "    <tr>\n",
       "      <th>month_6</th>\n",
       "      <td>2.717742e+05</td>\n",
       "    </tr>\n",
       "    <tr>\n",
       "      <th>month_7</th>\n",
       "      <td>2.717742e+05</td>\n",
       "    </tr>\n",
       "    <tr>\n",
       "      <th>month_8</th>\n",
       "      <td>2.717742e+05</td>\n",
       "    </tr>\n",
       "    <tr>\n",
       "      <th>month_9</th>\n",
       "      <td>2.717742e+05</td>\n",
       "    </tr>\n",
       "    <tr>\n",
       "      <th>month_10</th>\n",
       "      <td>2.717740e+05</td>\n",
       "    </tr>\n",
       "    <tr>\n",
       "      <th>month_11</th>\n",
       "      <td>2.717741e+05</td>\n",
       "    </tr>\n",
       "    <tr>\n",
       "      <th>month_12</th>\n",
       "      <td>2.717741e+05</td>\n",
       "    </tr>\n",
       "  </tbody>\n",
       "</table>\n",
       "</div>"
      ],
      "text/plain": [
       "                                           Coefficients\n",
       "square_feet                                1.713635e+00\n",
       "air_temperature                           -2.998093e-03\n",
       "cloud_coverage                            -6.404154e-04\n",
       "dew_temperature                            3.184849e-03\n",
       "precip_depth_1_hr                         -4.985995e-04\n",
       "sea_level_pressure                        -2.608972e-04\n",
       "wind_direction                            -1.435242e-04\n",
       "wind_speed                                 4.990483e-03\n",
       "meter_0                                   -1.589647e+08\n",
       "meter_1                                   -1.589647e+08\n",
       "meter_2                                   -1.589647e+08\n",
       "meter_3                                   -1.589647e+08\n",
       "site_id_0                                 -5.572044e+07\n",
       "site_id_1                                 -5.572044e+07\n",
       "site_id_2                                 -5.572044e+07\n",
       "site_id_3                                 -5.572044e+07\n",
       "site_id_4                                 -5.572044e+07\n",
       "site_id_5                                 -5.572044e+07\n",
       "site_id_6                                 -5.572044e+07\n",
       "site_id_7                                 -5.572044e+07\n",
       "site_id_8                                 -5.572044e+07\n",
       "site_id_9                                 -5.572044e+07\n",
       "site_id_10                                -5.572044e+07\n",
       "site_id_11                                -5.572044e+07\n",
       "site_id_12                                -5.572044e+07\n",
       "site_id_13                                -5.572044e+07\n",
       "site_id_14                                -5.572044e+07\n",
       "site_id_15                                -5.572044e+07\n",
       "primary_use_Education                      1.987368e+07\n",
       "primary_use_Entertainment/public assembly  1.987368e+07\n",
       "primary_use_Food sales and service         1.987368e+07\n",
       "primary_use_Healthcare                     1.987368e+07\n",
       "primary_use_Lodging/residential            1.987368e+07\n",
       "primary_use_Manufacturing/industrial       1.987368e+07\n",
       "primary_use_Office                         1.987368e+07\n",
       "primary_use_Other                          1.987368e+07\n",
       "primary_use_Parking                        1.987368e+07\n",
       "primary_use_Public services                1.987368e+07\n",
       "primary_use_Religious worship              1.987368e+07\n",
       "primary_use_Retail                         1.987368e+07\n",
       "primary_use_Services                       1.987368e+07\n",
       "primary_use_Technology/science             1.987368e+07\n",
       "primary_use_Utility                        1.987368e+07\n",
       "primary_use_Warehouse/storage              1.987368e+07\n",
       "month_1                                    2.717741e+05\n",
       "month_2                                    2.717742e+05\n",
       "month_3                                    2.717741e+05\n",
       "month_4                                    2.717741e+05\n",
       "month_5                                    2.717741e+05\n",
       "month_6                                    2.717742e+05\n",
       "month_7                                    2.717742e+05\n",
       "month_8                                    2.717742e+05\n",
       "month_9                                    2.717742e+05\n",
       "month_10                                   2.717740e+05\n",
       "month_11                                   2.717741e+05\n",
       "month_12                                   2.717741e+05"
      ]
     },
     "execution_count": 19,
     "metadata": {},
     "output_type": "execute_result"
    }
   ],
   "source": [
    "cdf = pd.DataFrame(data = model.coef_, index = train_1.columns, columns = ['Coefficients'])\n",
    "cdf"
   ]
  },
  {
   "cell_type": "code",
   "execution_count": 28,
   "metadata": {},
   "outputs": [
    {
     "data": {
      "text/plain": [
       "<AxesSubplot:>"
      ]
     },
     "execution_count": 28,
     "metadata": {},
     "output_type": "execute_result"
    },
    {
     "data": {
      "image/png": "[encoded data removed]",
      "text/plain": [
       "<Figure size 1440x1080 with 1 Axes>"
      ]
     },
     "metadata": {
      "needs_background": "light"
     },
     "output_type": "display_data"
    }
   ],
   "source": [
    "plt.figure(figsize=(20,15))\n",
    "cdf.Coefficients.plot(kind='barh')"
   ]
  },
  {
   "cell_type": "code",
   "execution_count": 21,
   "metadata": {},
   "outputs": [
    {
     "name": "stdout",
     "output_type": "stream",
     "text": [
      "1.7431110539017685\n"
     ]
    }
   ],
   "source": [
    "rmse = np.linalg.norm(target_pred - target_test) / np.sqrt(len(target_test))\n",
    "print(rmse)"
   ]
  },
  {
   "cell_type": "code",
   "execution_count": 22,
   "metadata": {},
   "outputs": [],
   "source": [
    "importance = model.coef_"
   ]
  },
  {
   "cell_type": "code",
   "execution_count": 23,
   "metadata": {},
   "outputs": [
    {
     "name": "stdout",
     "output_type": "stream",
     "text": [
      "Feature: 0, Score: 1.71364\n",
      "Feature: 1, Score: -0.00300\n",
      "Feature: 2, Score: -0.00064\n",
      "Feature: 3, Score: 0.00318\n",
      "Feature: 4, Score: -0.00050\n",
      "Feature: 5, Score: -0.00026\n",
      "Feature: 6, Score: -0.00014\n",
      "Feature: 7, Score: 0.00499\n",
      "Feature: 8, Score: -158964691.95677\n",
      "Feature: 9, Score: -158964692.35385\n",
      "Feature: 10, Score: -158964691.49005\n",
      "Feature: 11, Score: -158964693.40341\n",
      "Feature: 12, Score: -55720436.27679\n",
      "Feature: 13, Score: -55720437.76452\n",
      "Feature: 14, Score: -55720438.01284\n",
      "Feature: 15, Score: -55720437.92590\n",
      "Feature: 16, Score: -55720438.21636\n",
      "Feature: 17, Score: -55720439.19115\n",
      "Feature: 18, Score: -55720438.37021\n",
      "Feature: 19, Score: -55720438.53406\n",
      "Feature: 20, Score: -55720437.96301\n",
      "Feature: 21, Score: -55720438.26311\n",
      "Feature: 22, Score: -55720438.57767\n",
      "Feature: 23, Score: -55720438.49524\n",
      "Feature: 24, Score: -55720438.20209\n",
      "Feature: 25, Score: -55720438.14978\n",
      "Feature: 26, Score: -55720437.27370\n",
      "Feature: 27, Score: -55720438.11117\n",
      "Feature: 28, Score: 19873682.12763\n",
      "Feature: 29, Score: 19873682.03449\n",
      "Feature: 30, Score: 19873682.68268\n",
      "Feature: 31, Score: 19873682.06428\n",
      "Feature: 32, Score: 19873681.81386\n",
      "Feature: 33, Score: 19873683.20422\n",
      "Feature: 34, Score: 19873681.96758\n",
      "Feature: 35, Score: 19873682.04627\n",
      "Feature: 36, Score: 19873680.69950\n",
      "Feature: 37, Score: 19873682.17174\n",
      "Feature: 38, Score: 19873681.15910\n",
      "Feature: 39, Score: 19873681.73062\n",
      "Feature: 40, Score: 19873682.07019\n",
      "Feature: 41, Score: 19873682.36971\n",
      "Feature: 42, Score: 19873684.10345\n",
      "Feature: 43, Score: 19873681.64469\n",
      "Feature: 44, Score: 271774.08592\n",
      "Feature: 45, Score: 271774.15203\n",
      "Feature: 46, Score: 271774.11497\n",
      "Feature: 47, Score: 271774.12679\n",
      "Feature: 48, Score: 271774.11236\n",
      "Feature: 49, Score: 271774.18550\n",
      "Feature: 50, Score: 271774.16266\n",
      "Feature: 51, Score: 271774.23730\n",
      "Feature: 52, Score: 271774.23096\n",
      "Feature: 53, Score: 271773.99414\n",
      "Feature: 54, Score: 271774.11989\n",
      "Feature: 55, Score: 271774.08119\n"
     ]
    },
    {
     "data": {
      "image/png": "[encoded data removed]",
      "text/plain": [
       "<Figure size 432x288 with 1 Axes>"
      ]
     },
     "metadata": {
      "needs_background": "light"
     },
     "output_type": "display_data"
    }
   ],
   "source": [
    "for i,v in enumerate(importance):\n",
    "\tprint('Feature: %0d, Score: %.5f' % (i,v))\n",
    "# plot feature importance\n",
    "plt.bar([x for x in range(len(importance))], importance)\n",
    "plt.show()"
   ]
  },
  {
   "cell_type": "code",
   "execution_count": null,
   "metadata": {},
   "outputs": [],
   "source": []
  }
 ],
 "metadata": {
  "kernelspec": {
   "display_name": "Python 3 (ipykernel)",
   "language": "python",
   "name": "python3"
  },
  "language_info": {
   "codemirror_mode": {
    "name": "ipython",
    "version": 3
   },
   "file_extension": ".py",
   "mimetype": "text/x-python",
   "name": "python",
   "nbconvert_exporter": "python",
   "pygments_lexer": "ipython3",
   "version": "3.9.7"
  }
 },
 "nbformat": 4,
 "nbformat_minor": 4
}
